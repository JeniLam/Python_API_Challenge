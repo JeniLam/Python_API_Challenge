{
 "cells": [
  {
   "cell_type": "markdown",
   "metadata": {},
   "source": [
    "# WeatherPy\n",
    "----\n",
    "\n",
    "#### Note\n",
    "* Instructions have been included for each segment. You do not have to follow them exactly, but they are included to help you think through the steps."
   ]
  },
  {
   "cell_type": "code",
   "execution_count": 54,
   "metadata": {
    "scrolled": true
   },
   "outputs": [],
   "source": [
    "# Import Dependencies\n",
    "import matplotlib.pyplot as plt\n",
    "import pandas as pd\n",
    "import numpy as np\n",
    "import requests\n",
    "import time\n",
    "import json\n",
    "import random\n",
    "import scipy.stats as st\n",
    "from pprint import pprint\n",
    "\n",
    "# Import API Keys\n",
    "from config import g_key\n",
    "from config import weather_api_key\n",
    "\n",
    "# Import Citypy to Determine Citys based on Latitude and longitude\n",
    "from citipy import citipy\n"
   ]
  },
  {
   "cell_type": "markdown",
   "metadata": {},
   "source": [
    "## Generate Cities List"
   ]
  },
  {
   "cell_type": "code",
   "execution_count": 55,
   "metadata": {},
   "outputs": [
    {
     "data": {
      "text/plain": [
       "689"
      ]
     },
     "execution_count": 55,
     "metadata": {},
     "output_type": "execute_result"
    }
   ],
   "source": [
    "# Create List to hold cities \n",
    "cities = []\n",
    "lat_longs=[]\n",
    "\n",
    "# Create random list of lat and long combinations\n",
    "# https://docs.python.org/3/library/random.html\n",
    "# https://numpy.org/doc/stable/reference/random/generated/numpy.random.randint.html\n",
    "# https://www.geeksforgeeks.org/create-pandas-dataframe-from-lists-using-zip/\n",
    "# https://www.geeksforgeeks.org/python-get-unique-values-list/\n",
    "# https://github.com/wingchen/citipy\n",
    "lat = np.random.randint(-90,90,size=1750)\n",
    "long = np.random.randint(-180,180,size=1750)\n",
    "lat_longs=zip(lat,long)\n",
    "\n",
    "for lat_long in lat_longs:\n",
    "    city = citipy.nearest_city(lat_long[0], lat_long[1]).city_name\n",
    "    if city not in cities:\n",
    "        cities.append(city)\n",
    "\n",
    "len(cities)"
   ]
  },
  {
   "cell_type": "markdown",
   "metadata": {},
   "source": [
    "### Perform API Calls\n",
    "* Perform a weather check on each city using a series of successive API calls.\n",
    "* Include a print log of each city as it'sbeing processed (with the city number and city name).\n"
   ]
  },
  {
   "cell_type": "code",
   "execution_count": 7,
   "metadata": {},
   "outputs": [
    {
     "name": "stdout",
     "output_type": "stream",
     "text": [
      "{\n",
      "    \"base\": \"stations\",\n",
      "    \"clouds\": {\n",
      "        \"all\": 90\n",
      "    },\n",
      "    \"cod\": 200,\n",
      "    \"coord\": {\n",
      "        \"lat\": 63.84,\n",
      "        \"lon\": -22.43\n",
      "    },\n",
      "    \"dt\": 1602376993,\n",
      "    \"id\": 3416888,\n",
      "    \"main\": {\n",
      "        \"feels_like\": 29.41,\n",
      "        \"humidity\": 87,\n",
      "        \"pressure\": 1021,\n",
      "        \"temp\": 48.2,\n",
      "        \"temp_max\": 48.2,\n",
      "        \"temp_min\": 48.2\n",
      "    },\n",
      "    \"name\": \"Grindavik\",\n",
      "    \"rain\": {\n",
      "        \"1h\": 1.53\n",
      "    },\n",
      "    \"sys\": {\n",
      "        \"country\": \"IS\",\n",
      "        \"id\": 90,\n",
      "        \"sunrise\": 1602403686,\n",
      "        \"sunset\": 1602440657,\n",
      "        \"type\": 1\n",
      "    },\n",
      "    \"timezone\": 0,\n",
      "    \"visibility\": 10000,\n",
      "    \"weather\": [\n",
      "        {\n",
      "            \"description\": \"moderate rain\",\n",
      "            \"icon\": \"10n\",\n",
      "            \"id\": 501,\n",
      "            \"main\": \"Rain\"\n",
      "        }\n",
      "    ],\n",
      "    \"wind\": {\n",
      "        \"deg\": 130,\n",
      "        \"gust\": 43.62,\n",
      "        \"speed\": 31.09\n",
      "    }\n",
      "}\n"
     ]
    }
   ],
   "source": [
    "# set up API Call information\n",
    "# https://www.tutorialspoint.com/find-current-weather-of-any-city-using-openweathermap-api-in-python\n",
    "api_key = weather_api_key\n",
    "url = \"https://api.openweathermap.org/data/2.5/weather?\"\n",
    "units=\"imperial\"\n",
    "query_url = f\"{url}appid={api_key}&units={units}&q=\"\n",
    "\n",
    "weather_response = requests.get(query_url + city).json()\n",
    "print(json.dumps(weather_response, indent=4, sort_keys=True))    "
   ]
  },
  {
   "cell_type": "code",
   "execution_count": 8,
   "metadata": {},
   "outputs": [
    {
     "name": "stdout",
     "output_type": "stream",
     "text": [
      "<Response [200]>\n"
     ]
    }
   ],
   "source": [
    "print(requests.get((query_url + city)))"
   ]
  },
  {
   "cell_type": "code",
   "execution_count": 9,
   "metadata": {},
   "outputs": [],
   "source": [
    "# create lists for response information\n",
    "city_name =[]\n",
    "country = []\n",
    "latitude = []\n",
    "longitude = []\n",
    "temp = []\n",
    "humidity = []\n",
    "cloud = []\n",
    "windspd = []\n",
    "date = []\n"
   ]
  },
  {
   "cell_type": "code",
   "execution_count": 10,
   "metadata": {},
   "outputs": [
    {
     "name": "stdout",
     "output_type": "stream",
     "text": [
      "Beginning Data Retrieval \n",
      "-----------------------------\n",
      "Processing record Maniwaki\n",
      "Processing record Guerrero Negro\n",
      "City not found. Skipping...\n",
      "Processing record Comodoro Rivadavia\n",
      "Processing record Egvekinot\n",
      "City not found. Skipping...\n",
      "Processing record Hailar\n",
      "Processing record Barrow\n",
      "Processing record Iquique\n",
      "Processing record Khatanga\n",
      "Processing record Bluff\n",
      "Processing record Port Lincoln\n",
      "Processing record San Vicente\n",
      "Processing record Tawang Town\n",
      "Processing record Hermanus\n",
      "Processing record Rypefjord\n",
      "Processing record Nikolskoye\n",
      "Processing record Aksu\n",
      "Processing record Ushuaia\n",
      "Processing record Tessalit\n",
      "Processing record Sampit\n",
      "City not found. Skipping...\n",
      "Processing record Antofagasta\n",
      "Processing record Tiksi\n",
      "Processing record Jamestown\n",
      "City not found. Skipping...\n",
      "Processing record Chui\n",
      "Processing record Saskylakh\n",
      "Processing record Topeka\n",
      "Processing record Hobart\n",
      "Processing record Alofi\n",
      "Processing record Cape Town\n",
      "Processing record Horsham\n",
      "Processing record Atuona\n",
      "Processing record Narsaq\n",
      "Processing record Port Hardy\n",
      "Processing record Mar del Plata\n",
      "Processing record Tasiilaq\n",
      "Processing record Kalmunai\n",
      "Processing record Smiths Falls\n",
      "Processing record Abu Samrah\n",
      "Processing record Qaanaaq\n",
      "Processing record Usinsk\n",
      "Processing record Ingham\n",
      "Processing record Busselton\n",
      "Processing record Moa\n",
      "Processing record Airai\n",
      "Processing record Beringovskiy\n",
      "Processing record Punta Arenas\n",
      "Processing record Balkhash\n",
      "Processing record Anloga\n",
      "City not found. Skipping...\n",
      "Processing record Erfurt\n",
      "Processing record Torbay\n",
      "Processing record Coquimbo\n",
      "Processing record Saldanha\n",
      "Processing record Panzhihua\n",
      "Processing record Ippy\n",
      "Processing record Brownwood\n",
      "Processing record Grenville\n",
      "Processing record Sun City West\n",
      "Processing record Butaritari\n",
      "Processing record Cap Malheureux\n",
      "City not found. Skipping...\n",
      "Processing record Bilibino\n",
      "Processing record Malkāpur\n",
      "Processing record Rikitea\n",
      "Processing record Akot\n",
      "Processing record Mataura\n",
      "Processing record Ishigaki\n",
      "Processing record Kapaa\n",
      "Processing record Olafsvik\n",
      "Processing record Mehamn\n",
      "Processing record Saint George\n",
      "City not found. Skipping...\n",
      "Processing record Ayan\n",
      "Processing record Broken Hill\n",
      "Processing record Vaini\n",
      "Processing record Lorengau\n",
      "Processing record Hualmay\n",
      "City not found. Skipping...\n",
      "Processing record Hong Kong\n",
      "Processing record Gwadar\n",
      "Processing record Sorong\n",
      "Processing record Kahului\n",
      "Processing record Hilo\n",
      "Processing record Kidal\n",
      "Processing record Ihosy\n",
      "Processing record Santa Rosa del Sur\n",
      "Processing record Parīchhatgarh\n",
      "Processing record Hithadhoo\n",
      "Processing record Lompoc\n",
      "Processing record Bambous Virieux\n",
      "Processing record San Jose de Buan\n",
      "Processing record Aconibe\n",
      "Processing record Sovetskiy\n",
      "Processing record Cabo San Lucas\n",
      "Processing record Mahébourg\n",
      "Processing record Samaná\n",
      "Processing record São Filipe\n",
      "Processing record Los Llanos de Aridane\n",
      "Processing record Washington\n",
      "Processing record São João da Barra\n",
      "Processing record Pevek\n",
      "Processing record Kruisfontein\n",
      "Processing record Tuktoyaktuk\n",
      "Processing record Sisimiut\n",
      "Processing record Yulara\n",
      "Processing record Puerto Ayora\n",
      "Processing record Kavieng\n",
      "Processing record Albany\n",
      "Processing record Inuvik\n",
      "Processing record Martyush\n",
      "City not found. Skipping...\n",
      "Processing record Kieta\n",
      "Processing record Chalmette\n",
      "Processing record Lavrentiya\n",
      "Processing record College\n",
      "Processing record Zhangaözen\n",
      "Processing record Carnarvon\n",
      "Processing record Bredasdorp\n",
      "Processing record Port Alfred\n",
      "Processing record Dutse\n",
      "Processing record Karratha\n",
      "Processing record George Town\n",
      "City not found. Skipping...\n",
      "City not found. Skipping...\n",
      "Processing record Cave Spring\n",
      "Processing record Kismayo\n",
      "City not found. Skipping...\n",
      "Processing record Vichuga\n",
      "Processing record Taoudenni\n",
      "Processing record Dikson\n",
      "Processing record East London\n",
      "Processing record Kaitangata\n",
      "City not found. Skipping...\n",
      "Processing record Saint Paul Harbor\n",
      "Processing record Kavaratti\n",
      "Processing record Tymovskoye\n",
      "Processing record Deputatsky\n",
      "Processing record Pierre\n",
      "Processing record Port Blair\n",
      "Processing record Sitka\n",
      "City not found. Skipping...\n",
      "Processing record Ribeira Grande\n",
      "Processing record Faanui\n",
      "Processing record Vestmannaeyjar\n",
      "Processing record Cherskiy\n",
      "Processing record Katsuura\n",
      "Processing record Daşoguz\n",
      "Processing record Maridi\n",
      "Processing record Tahlequah\n",
      "Processing record Winnemucca\n",
      "Processing record Yellowknife\n",
      "Processing record Kiryat Gat\n",
      "Processing record Grand Forks\n",
      "City not found. Skipping...\n",
      "Processing record Korla\n",
      "Processing record Nagato\n",
      "Processing record Geraldton\n",
      "Processing record Vilhena\n",
      "Processing record Inírida\n",
      "Processing record Esperance\n",
      "Processing record Taitung City\n",
      "City not found. Skipping...\n",
      "Processing record Adrar\n",
      "Processing record Tzaneen\n",
      "Processing record Jiutai\n",
      "Processing record Zdvinsk\n",
      "Processing record Payakumbuh\n",
      "Processing record Luanda\n",
      "Processing record Novoseleznëvo\n",
      "Processing record Batagay-Alyta\n",
      "Processing record Philadelphia\n",
      "Processing record Dalaba\n",
      "Processing record General Pico\n",
      "Processing record Churapcha\n",
      "Processing record Alexander City\n",
      "Processing record Betwagan\n",
      "Processing record Fairbanks\n",
      "Processing record Malindi\n",
      "Processing record Arraial do Cabo\n",
      "Processing record Peniche\n",
      "City not found. Skipping...\n",
      "Processing record Codrington\n",
      "City not found. Skipping...\n",
      "Processing record Cidreira\n",
      "Processing record Tura\n",
      "Processing record Jumla\n",
      "Processing record Norman Wells\n",
      "Processing record Nome\n",
      "Processing record Tshane\n",
      "Processing record Mkushi\n",
      "Processing record Longyearbyen\n",
      "Processing record Provideniya\n",
      "Processing record Harper\n",
      "Processing record Saint-Joseph\n",
      "Processing record Valdivia\n",
      "Processing record Sola\n",
      "Processing record Sioux Lookout\n",
      "Processing record San Patricio\n",
      "Processing record Mogadishu\n",
      "Processing record Cataingan\n",
      "Processing record Upernavik\n",
      "Processing record Araouane\n",
      "Processing record Clyde River\n",
      "Processing record Beloha\n",
      "Processing record Rairangpur\n",
      "Processing record Izhmorskiy\n",
      "Processing record Ostrovnoy\n",
      "Processing record Garh Maharaja\n",
      "Processing record Portland\n",
      "Processing record Hamilton\n",
      "Processing record Erzurum Province\n",
      "Processing record Tambura\n",
      "Processing record Marzuq\n",
      "Processing record Port Macquarie\n",
      "Processing record Nguru\n",
      "Processing record Provost\n",
      "Processing record Wyndham\n",
      "Processing record Vostok\n",
      "Processing record Nanortalik\n",
      "Processing record Labytnangi\n",
      "Processing record Seoul\n",
      "City not found. Skipping...\n",
      "Processing record Mahajanga\n",
      "Processing record Vila Velha\n",
      "Processing record Mossamedes\n",
      "Processing record Zapolyarnyy\n",
      "Processing record Shakawe\n",
      "Processing record Esim\n",
      "Processing record Thompson\n",
      "Processing record Kutum\n",
      "Processing record Eureka\n",
      "Processing record Springfield\n",
      "Processing record New Norfolk\n",
      "City not found. Skipping...\n",
      "Processing record Azanka\n",
      "Processing record Catalão\n",
      "Processing record Fallon\n",
      "Processing record Krasnosel'kup\n",
      "Processing record Avarua\n",
      "Processing record Pisco\n",
      "Processing record Ürümqi\n",
      "Processing record Praia\n",
      "City not found. Skipping...\n",
      "Processing record Rabat\n",
      "City not found. Skipping...\n",
      "Processing record Buraidah\n",
      "Processing record Ponta do Sol\n",
      "Processing record Husavik\n",
      "Processing record Grand Gaube\n",
      "Processing record Pangnirtung\n",
      "Processing record Saint-Philippe\n",
      "Processing record Otaru\n",
      "Processing record Latung\n",
      "Processing record Keti Bandar\n",
      "Processing record Mbanza-Ngungu\n",
      "Processing record Castro\n",
      "Processing record Cavalcante\n",
      "Processing record Taksimo\n",
      "Processing record Auki\n",
      "Processing record Nishifukuma\n",
      "Processing record Köflach\n",
      "Processing record Mlowo\n",
      "Processing record Acará\n",
      "Processing record Enumclaw\n",
      "Processing record Chapais\n",
      "Processing record Laguna\n",
      "Processing record Ati\n",
      "City not found. Skipping...\n",
      "Processing record Amapá\n",
      "Processing record Ilulissat\n",
      "Processing record Lebu\n",
      "Processing record Chokurdakh\n",
      "Processing record Bubaque\n",
      "City not found. Skipping...\n",
      "Processing record Sangar\n",
      "Processing record Kupang\n",
      "Processing record Coos Bay\n",
      "Processing record Raudeberg\n",
      "Processing record Sohag\n",
      "Processing record Buckeye\n",
      "Processing record San Quintín\n",
      "Processing record Port Elizabeth\n",
      "Processing record Nouakchott\n",
      "Processing record Ust-Nera\n",
      "City not found. Skipping...\n",
      "Processing record Erdenet\n",
      "Processing record Henties Bay\n",
      "Processing record Ciudad Bolivar\n",
      "Processing record Krutikha\n",
      "Processing record Tuatapere\n",
      "Processing record Makat\n",
      "Processing record Morón\n",
      "Processing record Bourail\n"
     ]
    },
    {
     "name": "stdout",
     "output_type": "stream",
     "text": [
      "Processing record Chancay\n",
      "Processing record Mangochi\n",
      "Processing record Saint Simons\n",
      "Processing record Roald\n",
      "Processing record Ghanzi\n",
      "Processing record High Level\n",
      "Processing record Blackwater\n",
      "City not found. Skipping...\n",
      "Processing record Mufumbwe\n",
      "Processing record Pacific Grove\n",
      "City not found. Skipping...\n",
      "Processing record Vardø\n",
      "Processing record Madang\n",
      "Processing record Barcelos\n",
      "Processing record Colchester\n",
      "Processing record Wairoa\n",
      "Processing record Bariloche\n",
      "Processing record Haapiti\n",
      "Processing record City of San Pedro\n",
      "Processing record San Fernando del Valle de Catamarca\n",
      "Processing record Souillac\n",
      "City not found. Skipping...\n",
      "Processing record Khovd\n",
      "Processing record Bengkulu\n",
      "Processing record Iqaluit\n",
      "Processing record Lata\n",
      "Processing record Faro\n",
      "Processing record Noumea\n",
      "Processing record Naryan-Mar\n",
      "City not found. Skipping...\n",
      "Processing record Borogontsy\n",
      "Processing record Pahrump\n",
      "Processing record Quesnel\n",
      "Processing record Aquiraz\n",
      "Processing record Nabire\n",
      "Processing record Isangel\n",
      "Processing record Hobyo\n",
      "Processing record Kandrian\n",
      "Processing record Namatanai\n",
      "Processing record Bosaso\n",
      "Processing record Moussoro\n",
      "Processing record Maţāy\n",
      "Processing record Honiara\n",
      "Processing record Kiama\n",
      "Processing record Bull Savanna\n",
      "Processing record Zhangye\n",
      "Processing record Naze\n",
      "Processing record Måløy\n",
      "Processing record Oruzgan\n",
      "Processing record Tiarei\n",
      "Processing record Suoyarvi\n",
      "Processing record Constitución\n",
      "Processing record Safonovo\n",
      "City not found. Skipping...\n",
      "Processing record Saint-Augustin\n",
      "Processing record Grindavik\n",
      "Processing record Ennis\n",
      "Processing record Meulaboh\n",
      "Processing record Nantucket\n",
      "Processing record Mayor Pablo Lagerenza\n",
      "Processing record Mau\n",
      "Processing record Noyabrsk\n",
      "Processing record Novolabinskaya\n",
      "Processing record Hillsborough\n",
      "Processing record Griffith\n",
      "Processing record Padang\n",
      "Processing record Aklavik\n",
      "City not found. Skipping...\n",
      "Processing record Pokhara\n",
      "Processing record Rafaela\n",
      "Processing record Zaysan\n",
      "Processing record Severo-Kuril'sk\n",
      "Processing record Amahai\n",
      "Processing record Rome\n",
      "Processing record Tamandaré\n",
      "Processing record Stornoway\n",
      "Processing record Santa Marta\n",
      "Processing record Coyhaique\n",
      "Processing record Liverpool\n",
      "Processing record Christchurch\n",
      "Processing record Tual\n",
      "Processing record Beroroha\n",
      "Processing record Anori\n",
      "Processing record Ancud\n",
      "Processing record Aykhal\n",
      "Processing record Safranbolu\n",
      "Processing record La Palma\n",
      "Processing record kimparana\n",
      "Processing record Bjørnevatn\n",
      "Processing record Touros\n",
      "Processing record Kitgum\n",
      "Processing record Shimoda\n",
      "Processing record Zhezkazgan\n",
      "Processing record Forestville\n",
      "Processing record Lubao\n",
      "Processing record Acayucan\n",
      "Processing record Cayenne\n",
      "Processing record Lagoa\n",
      "Processing record Malakal\n",
      "Processing record Natalio\n",
      "Processing record Talnakh\n",
      "Processing record Roseburg\n",
      "Processing record Ilula\n",
      "Processing record Sabha\n",
      "Processing record Sarangani\n",
      "Processing record Kalundborg\n",
      "Processing record Røros\n",
      "City not found. Skipping...\n",
      "Processing record Saint-Pierre\n",
      "Processing record Berezovyy\n",
      "Processing record San Cristobal\n",
      "Processing record Fortuna\n",
      "Processing record Wajir\n",
      "Processing record Kayes\n",
      "Processing record Kralendijk\n",
      "City not found. Skipping...\n",
      "Processing record Dodola\n",
      "Processing record Mandera\n",
      "Processing record Khandyga\n",
      "Processing record Lüderitz\n",
      "Processing record Ketchikan\n",
      "Processing record Yarkovo\n",
      "Processing record Mezhdurechensk\n",
      "Processing record Aloleng\n",
      "Processing record Broome\n",
      "Processing record Okhotsk\n",
      "Processing record Bulolo\n",
      "Processing record Lahat\n",
      "Processing record Golden\n",
      "Processing record Praia da Vitória\n",
      "Processing record Tongchuanshi\n",
      "Processing record Vega de Alatorre\n",
      "Processing record Yining\n",
      "Processing record Kuytun\n",
      "Processing record Bandarbeyla\n",
      "Processing record Belmonte\n",
      "Processing record Fatehpur\n",
      "Processing record Richards Bay\n",
      "City not found. Skipping...\n",
      "City not found. Skipping...\n",
      "Processing record Sinnamary\n",
      "Processing record Nyurba\n",
      "City not found. Skipping...\n",
      "City not found. Skipping...\n",
      "Processing record West Bay\n",
      "Processing record São Félix do Xingu\n",
      "City not found. Skipping...\n",
      "Processing record Mana\n",
      "Processing record Amberley\n",
      "Processing record Nioro\n",
      "Processing record Laas\n",
      "Processing record Nouadhibou\n",
      "City not found. Skipping...\n",
      "Processing record Adiaké\n",
      "Processing record Iquitos\n",
      "Processing record Sistranda\n",
      "Processing record Conde\n",
      "Processing record Karatau\n",
      "Processing record Fukuechō\n",
      "Processing record Juneau\n",
      "Processing record Dudinka\n",
      "Processing record Khāsh\n",
      "Processing record Bilma\n",
      "Processing record Voyvozh\n",
      "Processing record Owensboro\n",
      "Processing record Norfolk\n",
      "Processing record Ponta Delgada\n",
      "Processing record Turgoyak\n",
      "City not found. Skipping...\n",
      "Processing record Southbridge\n",
      "Processing record Sungai Raya\n",
      "Processing record Jieshi\n",
      "Processing record Mariental\n",
      "Processing record Wanning\n",
      "Processing record Wisconsin Rapids\n",
      "Processing record Santa Rosa\n",
      "Processing record Acapulco de Juárez\n",
      "Processing record Ucluelet\n",
      "Processing record Itoman\n",
      "Processing record Ereymentau\n",
      "Processing record Mahudha\n",
      "City not found. Skipping...\n",
      "Processing record Poway\n",
      "Processing record Turan\n",
      "Processing record Nzérékoré\n",
      "City not found. Skipping...\n",
      "City not found. Skipping...\n",
      "City not found. Skipping...\n",
      "Processing record Kununurra\n",
      "Processing record Cotonou\n",
      "Processing record Vila Praia de Âncora\n",
      "Processing record Bathsheba\n",
      "Processing record Calvinia\n",
      "Processing record Tarakan\n",
      "Processing record Alexandria\n",
      "Processing record Kousséri\n",
      "Processing record Paamiut\n",
      "Processing record Klaksvík\n",
      "Processing record Port Hedland\n",
      "Processing record Maple Creek\n",
      "Processing record Zhigansk\n",
      "Processing record Idanre\n",
      "Processing record Severobaykal'sk\n",
      "Processing record Caramoran\n",
      "Processing record Dingle\n",
      "Processing record Westport\n",
      "Processing record Turukhansk\n",
      "Processing record Kibala\n",
      "Processing record Nevel'\n",
      "Processing record Qui Nhon\n",
      "Processing record Jiwani\n",
      "City not found. Skipping...\n",
      "Processing record Leningradskiy\n",
      "Processing record Malpe\n",
      "Processing record Campohermoso\n",
      "Processing record Kashgar\n",
      "Processing record Storforshei\n",
      "Processing record Kharan\n",
      "Processing record Armidale\n",
      "Processing record Burnie\n",
      "Processing record Rovaniemi\n",
      "City not found. Skipping...\n",
      "City not found. Skipping...\n",
      "Processing record Port-Gentil\n",
      "Processing record Krasnoarmiys'k\n",
      "Processing record Añisoc\n",
      "Processing record Totness\n",
      "Processing record Clarksburg\n",
      "Processing record Tilichiki\n",
      "Processing record Pemangkat\n",
      "Processing record Ajdabiya\n",
      "Processing record Gao\n",
      "Processing record Hongjiang\n",
      "Processing record Itaituba\n",
      "Processing record Alès\n",
      "Processing record Altay\n",
      "Processing record Azul\n",
      "Processing record Diapaga\n",
      "Processing record Palāsa\n",
      "Processing record Kérouané\n",
      "Processing record Baykit\n",
      "Processing record Kumul\n",
      "Processing record Jimma\n",
      "Processing record Port Augusta\n",
      "Processing record Sur\n",
      "Processing record Bintulu\n",
      "Processing record Arrondissement du Havre\n",
      "Processing record Östersund\n",
      "Processing record Laichow\n",
      "Processing record Margate\n",
      "Processing record Kaupanger\n",
      "Processing record Vao\n",
      "Processing record Gurupá\n",
      "Processing record São José da Laje\n",
      "Processing record Wattegama\n",
      "Processing record Buchanan\n",
      "Processing record Nelson Bay\n",
      "Processing record Celestún\n",
      "Processing record Te Anau\n",
      "Processing record Omboué\n",
      "Processing record Basco\n",
      "Processing record Vestmanna\n",
      "Processing record Bethel\n",
      "Processing record Diu\n",
      "Processing record San Buenaventura\n",
      "Processing record São Gotardo\n",
      "Processing record Sühbaatar\n",
      "Processing record Maltahöhe\n",
      "Processing record Ruidoso\n",
      "Processing record Yumen\n",
      "Processing record Fort Frances\n",
      "Processing record Gáldar\n",
      "Processing record Miranda\n",
      "Processing record Layton\n",
      "Processing record Bad Wurzach\n",
      "Processing record Half Moon Bay\n",
      "Processing record Mt. Pleasant\n",
      "Processing record Paragominas\n",
      "Processing record Farafangana\n",
      "Processing record Hofn\n",
      "Processing record Eydhafushi\n",
      "Processing record Bataiporã\n",
      "Processing record Novochernorechenskiy\n",
      "Processing record Kenai\n",
      "Processing record Mogzon\n",
      "Processing record Udachny\n",
      "Processing record Key Largo\n",
      "Processing record Zonguldak\n",
      "Processing record Goiatuba\n",
      "Processing record Kinsale\n",
      "Processing record Khovu-Aksy\n",
      "Processing record Sayyan\n",
      "Processing record Bogorodskoye\n",
      "Processing record Biak\n",
      "Processing record Santa Maria\n",
      "Processing record Menongue\n",
      "Processing record Hazorasp\n",
      "Processing record Hasaki\n",
      "Processing record Ortaköy\n",
      "Processing record Ruteng\n"
     ]
    },
    {
     "name": "stdout",
     "output_type": "stream",
     "text": [
      "Processing record Nayāgarh\n",
      "Processing record Flinders\n",
      "Processing record Bahía Blanca\n",
      "Processing record Paredon\n",
      "Processing record Canutama\n",
      "Processing record Tumen\n",
      "Processing record Donji grad\n",
      "Processing record Linhai\n",
      "Processing record Tupik\n",
      "Processing record Batemans Bay\n",
      "Processing record Aykino\n",
      "Processing record Rocha\n",
      "Processing record Sechura\n",
      "Processing record Marathon\n",
      "Processing record Avera\n",
      "Processing record Macklin\n",
      "Processing record Plaster Rock\n",
      "Processing record Khromtau\n",
      "Processing record Vrangel'\n",
      "Processing record Bandiagara\n",
      "Processing record Katherine\n",
      "Processing record Makakilo City\n",
      "Processing record Asadābād\n",
      "Processing record Primo Tapia\n",
      "Processing record Zambezi\n",
      "Processing record Soyo\n",
      "Processing record Kingaroy\n",
      "Processing record Oodweyne\n",
      "Processing record Sakakah\n",
      "Processing record Craig\n",
      "Processing record Muros\n",
      "Processing record Buala\n",
      "Processing record Uruçuí\n",
      "Processing record Kuvshinovo\n",
      "Processing record Mahon\n",
      "Processing record Boyle\n",
      "Processing record Kendari\n",
      "Processing record Tabou\n",
      "Processing record Ixtapa\n",
      "Processing record Itarema\n",
      "Processing record Urusha\n",
      "Processing record Gigmoto\n",
      "Processing record Sangīn\n",
      "Processing record Omsukchan\n",
      "Processing record Mackenzie\n",
      "Processing record Kouroussa\n",
      "Processing record Yerbogachën\n",
      "City not found. Skipping...\n",
      "Processing record Zahnitkiv\n",
      "Processing record Myaundzha\n",
      "Processing record Aripuanã\n",
      "Processing record Aksarka\n",
      "Processing record Phalaborwa\n",
      "Processing record Boyolangu\n",
      "Processing record Baturaja\n",
      "Processing record Warri\n",
      "City not found. Skipping...\n",
      "Processing record Sabang\n",
      "Processing record Leshukonskoye\n",
      "Processing record Formosa\n",
      "Processing record Alcamo\n",
      "Processing record Svetlaya\n",
      "Processing record Hillsboro\n",
      "Processing record Taicheng\n",
      "Processing record Panvel\n",
      "Processing record Trelew\n",
      "Processing record Kapit\n",
      "Processing record Sidi Ali\n",
      "City not found. Skipping...\n",
      "Processing record Deer Lake\n",
      "Processing record Nur-Sultan\n",
      "Processing record Kamenka\n",
      "Processing record Yelizovo\n",
      "City not found. Skipping...\n",
      "Processing record Marabba\n",
      "Processing record Calama\n",
      "Processing record Cervo\n",
      "Processing record Chegdomyn\n",
      "Processing record Tainan City\n",
      "Processing record Karaton\n",
      "Processing record Chimoio\n",
      "Processing record Lokosovo\n",
      "Processing record Mount Gambier\n",
      "Processing record Romny\n",
      "Processing record Kungurtug\n",
      "Processing record Anadyr\n",
      "City not found. Skipping...\n",
      "Processing record Kāmyārān\n",
      "Processing record Alice Springs\n",
      "Processing record Ambilobe\n",
      "Processing record Plettenberg Bay\n",
      "Processing record Ensenada\n",
      "Processing record Bacolod City\n",
      "Processing record Nara\n",
      "Processing record Awjilah\n",
      "Processing record Srednekolymsk\n",
      "Processing record Salinas\n",
      "City not found. Skipping...\n",
      "Processing record Santa Barbara\n",
      "Processing record Puerto El Triunfo\n",
      "Processing record Yelan'\n",
      "Processing record Kanashevo\n",
      "Processing record Road Town\n",
      "Processing record Matara\n",
      "City not found. Skipping...\n",
      "Processing record Arman'\n",
      "Processing record Atherton\n",
      "Processing record Manacapuru\n",
      "Processing record Nishihara\n",
      "Processing record Wentzville\n",
      "Processing record Ahipara\n",
      "Processing record Emerald\n",
      "Processing record Gorontalo\n",
      "Processing record Honningsvåg\n",
      "Processing record Lidköping\n",
      "Processing record Marrakesh\n",
      "City not found. Skipping...\n",
      "Processing record Abomey\n",
      "Processing record Havøysund\n",
      "Processing record Mīzan Teferī\n",
      "Processing record Gold Coast\n",
      "Done checking cities\n"
     ]
    }
   ],
   "source": [
    "# print log\n",
    "\n",
    "print('Beginning Data Retrieval ')\n",
    "print('-----------------------------')\n",
    "\n",
    "for city in cities:\n",
    "    try:\n",
    "        response= requests.get(query_url + city).json()\n",
    "        city_name.append(response['name'])\n",
    "        country.append(response['sys']['country'])\n",
    "        latitude.append(response['coord']['lat'])\n",
    "        longitude.append(response['coord']['lon'])\n",
    "        temp.append(response['main']['temp'])\n",
    "        humidity.append(response['main']['humidity'])\n",
    "        cloud.append(response['clouds']['all'])\n",
    "        windspd.append(response['wind']['speed'])\n",
    "        date.append(response['dt'])\n",
    "        record_name = response['name']\n",
    "        print(f'Processing record {record_name}')\n",
    "    except:\n",
    "        print('City not found. Skipping...')\n",
    "    continue\n",
    "\n",
    "print('Done checking cities')"
   ]
  },
  {
   "cell_type": "code",
   "execution_count": null,
   "metadata": {
    "scrolled": true
   },
   "outputs": [],
   "source": [
    "\n"
   ]
  },
  {
   "cell_type": "markdown",
   "metadata": {},
   "source": [
    "### Convert Raw Data to DataFrame\n",
    "* Export the city data into a .csv.\n",
    "* Display the DataFrame"
   ]
  },
  {
   "cell_type": "code",
   "execution_count": 11,
   "metadata": {},
   "outputs": [],
   "source": [
    "weather={\n",
    "    \"City\":city_name,\n",
    "    \"Latitude\":latitude,\n",
    "    \"Longitude\":longitude,\n",
    "    \"Temperature\":temp,\n",
    "    \"Humidity\": humidity,\n",
    "    \"Cloudiness\": cloud,\n",
    "    \"Wind Speed\":windspd,\n",
    "    \"Country\": country,\n",
    "    \"Date\":date    \n",
    "}\n",
    "\n",
    "city_data = pd.DataFrame(weather)"
   ]
  },
  {
   "cell_type": "code",
   "execution_count": 12,
   "metadata": {},
   "outputs": [
    {
     "data": {
      "text/html": [
       "<div>\n",
       "<style scoped>\n",
       "    .dataframe tbody tr th:only-of-type {\n",
       "        vertical-align: middle;\n",
       "    }\n",
       "\n",
       "    .dataframe tbody tr th {\n",
       "        vertical-align: top;\n",
       "    }\n",
       "\n",
       "    .dataframe thead th {\n",
       "        text-align: right;\n",
       "    }\n",
       "</style>\n",
       "<table border=\"1\" class=\"dataframe\">\n",
       "  <thead>\n",
       "    <tr style=\"text-align: right;\">\n",
       "      <th></th>\n",
       "      <th>City</th>\n",
       "      <th>Latitude</th>\n",
       "      <th>Longitude</th>\n",
       "      <th>Temperature</th>\n",
       "      <th>Humidity</th>\n",
       "      <th>Cloudiness</th>\n",
       "      <th>Wind Speed</th>\n",
       "      <th>Country</th>\n",
       "      <th>Date</th>\n",
       "    </tr>\n",
       "  </thead>\n",
       "  <tbody>\n",
       "    <tr>\n",
       "      <th>0</th>\n",
       "      <td>Maniwaki</td>\n",
       "      <td>46.38</td>\n",
       "      <td>-75.97</td>\n",
       "      <td>42.48</td>\n",
       "      <td>80</td>\n",
       "      <td>54</td>\n",
       "      <td>9.75</td>\n",
       "      <td>CA</td>\n",
       "      <td>1602376861</td>\n",
       "    </tr>\n",
       "    <tr>\n",
       "      <th>1</th>\n",
       "      <td>Guerrero Negro</td>\n",
       "      <td>27.98</td>\n",
       "      <td>-114.06</td>\n",
       "      <td>70.52</td>\n",
       "      <td>80</td>\n",
       "      <td>0</td>\n",
       "      <td>17.47</td>\n",
       "      <td>MX</td>\n",
       "      <td>1602376996</td>\n",
       "    </tr>\n",
       "    <tr>\n",
       "      <th>2</th>\n",
       "      <td>Comodoro Rivadavia</td>\n",
       "      <td>-45.87</td>\n",
       "      <td>-67.50</td>\n",
       "      <td>51.80</td>\n",
       "      <td>62</td>\n",
       "      <td>0</td>\n",
       "      <td>3.36</td>\n",
       "      <td>AR</td>\n",
       "      <td>1602376942</td>\n",
       "    </tr>\n",
       "    <tr>\n",
       "      <th>3</th>\n",
       "      <td>Egvekinot</td>\n",
       "      <td>66.32</td>\n",
       "      <td>-179.17</td>\n",
       "      <td>31.17</td>\n",
       "      <td>93</td>\n",
       "      <td>69</td>\n",
       "      <td>15.17</td>\n",
       "      <td>RU</td>\n",
       "      <td>1602376996</td>\n",
       "    </tr>\n",
       "    <tr>\n",
       "      <th>4</th>\n",
       "      <td>Hailar</td>\n",
       "      <td>49.20</td>\n",
       "      <td>119.70</td>\n",
       "      <td>33.15</td>\n",
       "      <td>89</td>\n",
       "      <td>100</td>\n",
       "      <td>20.29</td>\n",
       "      <td>CN</td>\n",
       "      <td>1602376997</td>\n",
       "    </tr>\n",
       "  </tbody>\n",
       "</table>\n",
       "</div>"
      ],
      "text/plain": [
       "                 City  Latitude  Longitude  Temperature  Humidity  Cloudiness  \\\n",
       "0            Maniwaki     46.38     -75.97        42.48        80          54   \n",
       "1      Guerrero Negro     27.98    -114.06        70.52        80           0   \n",
       "2  Comodoro Rivadavia    -45.87     -67.50        51.80        62           0   \n",
       "3           Egvekinot     66.32    -179.17        31.17        93          69   \n",
       "4              Hailar     49.20     119.70        33.15        89         100   \n",
       "\n",
       "   Wind Speed Country        Date  \n",
       "0        9.75      CA  1602376861  \n",
       "1       17.47      MX  1602376996  \n",
       "2        3.36      AR  1602376942  \n",
       "3       15.17      RU  1602376996  \n",
       "4       20.29      CN  1602376997  "
      ]
     },
     "execution_count": 12,
     "metadata": {},
     "output_type": "execute_result"
    }
   ],
   "source": [
    "city_data.head()"
   ]
  },
  {
   "cell_type": "code",
   "execution_count": 13,
   "metadata": {},
   "outputs": [],
   "source": [
    "city_data.to_csv(\"Outputs/city_data.csv\", index=False, header =True)"
   ]
  },
  {
   "cell_type": "code",
   "execution_count": 14,
   "metadata": {},
   "outputs": [
    {
     "data": {
      "text/html": [
       "<div>\n",
       "<style scoped>\n",
       "    .dataframe tbody tr th:only-of-type {\n",
       "        vertical-align: middle;\n",
       "    }\n",
       "\n",
       "    .dataframe tbody tr th {\n",
       "        vertical-align: top;\n",
       "    }\n",
       "\n",
       "    .dataframe thead th {\n",
       "        text-align: right;\n",
       "    }\n",
       "</style>\n",
       "<table border=\"1\" class=\"dataframe\">\n",
       "  <thead>\n",
       "    <tr style=\"text-align: right;\">\n",
       "      <th></th>\n",
       "      <th>Latitude</th>\n",
       "      <th>Longitude</th>\n",
       "      <th>Temperature</th>\n",
       "      <th>Humidity</th>\n",
       "      <th>Cloudiness</th>\n",
       "      <th>Wind Speed</th>\n",
       "      <th>Date</th>\n",
       "    </tr>\n",
       "  </thead>\n",
       "  <tbody>\n",
       "    <tr>\n",
       "      <th>count</th>\n",
       "      <td>662.000000</td>\n",
       "      <td>662.000000</td>\n",
       "      <td>662.000000</td>\n",
       "      <td>662.000000</td>\n",
       "      <td>662.000000</td>\n",
       "      <td>662.000000</td>\n",
       "      <td>6.620000e+02</td>\n",
       "    </tr>\n",
       "    <tr>\n",
       "      <th>mean</th>\n",
       "      <td>21.301420</td>\n",
       "      <td>19.000650</td>\n",
       "      <td>61.931556</td>\n",
       "      <td>73.256798</td>\n",
       "      <td>52.347432</td>\n",
       "      <td>7.969260</td>\n",
       "      <td>1.602377e+09</td>\n",
       "    </tr>\n",
       "    <tr>\n",
       "      <th>std</th>\n",
       "      <td>32.530493</td>\n",
       "      <td>90.068041</td>\n",
       "      <td>17.878653</td>\n",
       "      <td>20.701697</td>\n",
       "      <td>40.736378</td>\n",
       "      <td>5.619598</td>\n",
       "      <td>8.583183e+01</td>\n",
       "    </tr>\n",
       "    <tr>\n",
       "      <th>min</th>\n",
       "      <td>-54.800000</td>\n",
       "      <td>-179.170000</td>\n",
       "      <td>12.200000</td>\n",
       "      <td>1.000000</td>\n",
       "      <td>0.000000</td>\n",
       "      <td>0.450000</td>\n",
       "      <td>1.602376e+09</td>\n",
       "    </tr>\n",
       "    <tr>\n",
       "      <th>25%</th>\n",
       "      <td>-3.792500</td>\n",
       "      <td>-60.502500</td>\n",
       "      <td>48.200000</td>\n",
       "      <td>63.000000</td>\n",
       "      <td>2.000000</td>\n",
       "      <td>3.675000</td>\n",
       "      <td>1.602377e+09</td>\n",
       "    </tr>\n",
       "    <tr>\n",
       "      <th>50%</th>\n",
       "      <td>25.725000</td>\n",
       "      <td>23.235000</td>\n",
       "      <td>66.000000</td>\n",
       "      <td>78.000000</td>\n",
       "      <td>60.000000</td>\n",
       "      <td>6.930000</td>\n",
       "      <td>1.602377e+09</td>\n",
       "    </tr>\n",
       "    <tr>\n",
       "      <th>75%</th>\n",
       "      <td>48.032500</td>\n",
       "      <td>99.635000</td>\n",
       "      <td>77.030000</td>\n",
       "      <td>88.000000</td>\n",
       "      <td>95.750000</td>\n",
       "      <td>10.895000</td>\n",
       "      <td>1.602377e+09</td>\n",
       "    </tr>\n",
       "    <tr>\n",
       "      <th>max</th>\n",
       "      <td>78.220000</td>\n",
       "      <td>179.320000</td>\n",
       "      <td>91.740000</td>\n",
       "      <td>100.000000</td>\n",
       "      <td>100.000000</td>\n",
       "      <td>59.730000</td>\n",
       "      <td>1.602377e+09</td>\n",
       "    </tr>\n",
       "  </tbody>\n",
       "</table>\n",
       "</div>"
      ],
      "text/plain": [
       "         Latitude   Longitude  Temperature    Humidity  Cloudiness  \\\n",
       "count  662.000000  662.000000   662.000000  662.000000  662.000000   \n",
       "mean    21.301420   19.000650    61.931556   73.256798   52.347432   \n",
       "std     32.530493   90.068041    17.878653   20.701697   40.736378   \n",
       "min    -54.800000 -179.170000    12.200000    1.000000    0.000000   \n",
       "25%     -3.792500  -60.502500    48.200000   63.000000    2.000000   \n",
       "50%     25.725000   23.235000    66.000000   78.000000   60.000000   \n",
       "75%     48.032500   99.635000    77.030000   88.000000   95.750000   \n",
       "max     78.220000  179.320000    91.740000  100.000000  100.000000   \n",
       "\n",
       "       Wind Speed          Date  \n",
       "count  662.000000  6.620000e+02  \n",
       "mean     7.969260  1.602377e+09  \n",
       "std      5.619598  8.583183e+01  \n",
       "min      0.450000  1.602376e+09  \n",
       "25%      3.675000  1.602377e+09  \n",
       "50%      6.930000  1.602377e+09  \n",
       "75%     10.895000  1.602377e+09  \n",
       "max     59.730000  1.602377e+09  "
      ]
     },
     "execution_count": 14,
     "metadata": {},
     "output_type": "execute_result"
    }
   ],
   "source": [
    "city_data.describe()"
   ]
  },
  {
   "cell_type": "code",
   "execution_count": null,
   "metadata": {},
   "outputs": [],
   "source": []
  },
  {
   "cell_type": "markdown",
   "metadata": {},
   "source": [
    "## Inspect the data and remove the cities where the humidity > 100%.\n",
    "----\n",
    "Skip this step if there are no cities that have humidity > 100%. "
   ]
  },
  {
   "cell_type": "code",
   "execution_count": 15,
   "metadata": {},
   "outputs": [
    {
     "data": {
      "text/html": [
       "<div>\n",
       "<style scoped>\n",
       "    .dataframe tbody tr th:only-of-type {\n",
       "        vertical-align: middle;\n",
       "    }\n",
       "\n",
       "    .dataframe tbody tr th {\n",
       "        vertical-align: top;\n",
       "    }\n",
       "\n",
       "    .dataframe thead th {\n",
       "        text-align: right;\n",
       "    }\n",
       "</style>\n",
       "<table border=\"1\" class=\"dataframe\">\n",
       "  <thead>\n",
       "    <tr style=\"text-align: right;\">\n",
       "      <th></th>\n",
       "      <th>City</th>\n",
       "      <th>Latitude</th>\n",
       "      <th>Longitude</th>\n",
       "      <th>Temperature</th>\n",
       "      <th>Humidity</th>\n",
       "      <th>Cloudiness</th>\n",
       "      <th>Wind Speed</th>\n",
       "      <th>Country</th>\n",
       "      <th>Date</th>\n",
       "    </tr>\n",
       "  </thead>\n",
       "  <tbody>\n",
       "  </tbody>\n",
       "</table>\n",
       "</div>"
      ],
      "text/plain": [
       "Empty DataFrame\n",
       "Columns: [City, Latitude, Longitude, Temperature, Humidity, Cloudiness, Wind Speed, Country, Date]\n",
       "Index: []"
      ]
     },
     "execution_count": 15,
     "metadata": {},
     "output_type": "execute_result"
    }
   ],
   "source": [
    "humid_cities = city_data.loc[city_data['Humidity']>100]\n",
    "humid_cities"
   ]
  },
  {
   "cell_type": "markdown",
   "metadata": {},
   "source": [
    "###  Skipping - Get the indices of cities that have humidity over 100%.\n"
   ]
  },
  {
   "cell_type": "markdown",
   "metadata": {},
   "source": [
    "### Skipping -  Make a new DataFrame equal to the city data to drop all humidity outliers by index.\n",
    "### Passing \"inplace=False\" will make a copy of the city_data DataFrame, which we call \"clean_city_data\".\n"
   ]
  },
  {
   "cell_type": "code",
   "execution_count": 18,
   "metadata": {},
   "outputs": [
    {
     "data": {
      "text/html": [
       "<div>\n",
       "<style scoped>\n",
       "    .dataframe tbody tr th:only-of-type {\n",
       "        vertical-align: middle;\n",
       "    }\n",
       "\n",
       "    .dataframe tbody tr th {\n",
       "        vertical-align: top;\n",
       "    }\n",
       "\n",
       "    .dataframe thead th {\n",
       "        text-align: right;\n",
       "    }\n",
       "</style>\n",
       "<table border=\"1\" class=\"dataframe\">\n",
       "  <thead>\n",
       "    <tr style=\"text-align: right;\">\n",
       "      <th></th>\n",
       "      <th>City</th>\n",
       "      <th>Latitude</th>\n",
       "      <th>Longitude</th>\n",
       "      <th>Temperature</th>\n",
       "      <th>Humidity</th>\n",
       "      <th>Cloudiness</th>\n",
       "      <th>Wind Speed</th>\n",
       "      <th>Country</th>\n",
       "      <th>Date</th>\n",
       "    </tr>\n",
       "  </thead>\n",
       "  <tbody>\n",
       "    <tr>\n",
       "      <th>0</th>\n",
       "      <td>Maniwaki</td>\n",
       "      <td>46.38</td>\n",
       "      <td>-75.97</td>\n",
       "      <td>42.48</td>\n",
       "      <td>80</td>\n",
       "      <td>54</td>\n",
       "      <td>9.75</td>\n",
       "      <td>CA</td>\n",
       "      <td>1602376861</td>\n",
       "    </tr>\n",
       "    <tr>\n",
       "      <th>1</th>\n",
       "      <td>Guerrero Negro</td>\n",
       "      <td>27.98</td>\n",
       "      <td>-114.06</td>\n",
       "      <td>70.52</td>\n",
       "      <td>80</td>\n",
       "      <td>0</td>\n",
       "      <td>17.47</td>\n",
       "      <td>MX</td>\n",
       "      <td>1602376996</td>\n",
       "    </tr>\n",
       "  </tbody>\n",
       "</table>\n",
       "</div>"
      ],
      "text/plain": [
       "             City  Latitude  Longitude  Temperature  Humidity  Cloudiness  \\\n",
       "0        Maniwaki     46.38     -75.97        42.48        80          54   \n",
       "1  Guerrero Negro     27.98    -114.06        70.52        80           0   \n",
       "\n",
       "   Wind Speed Country        Date  \n",
       "0        9.75      CA  1602376861  \n",
       "1       17.47      MX  1602376996  "
      ]
     },
     "execution_count": 18,
     "metadata": {},
     "output_type": "execute_result"
    }
   ],
   "source": [
    "city_data.head(2)\n"
   ]
  },
  {
   "cell_type": "markdown",
   "metadata": {},
   "source": [
    "## Plotting the Data\n",
    "* Use proper labeling of the plots using plot titles (including date of analysis) and axes labels.\n",
    "* Save the plotted figures as .pngs."
   ]
  },
  {
   "cell_type": "markdown",
   "metadata": {},
   "source": [
    "## Latitude vs. Temperature Plot"
   ]
  },
  {
   "cell_type": "code",
   "execution_count": 29,
   "metadata": {},
   "outputs": [
    {
     "name": "stdout",
     "output_type": "stream",
     "text": [
      "-54.8\n",
      "78.22\n"
     ]
    }
   ],
   "source": [
    "print(city_data['Latitude'].min())\n",
    "print(city_data['Latitude'].max())"
   ]
  },
  {
   "cell_type": "code",
   "execution_count": 30,
   "metadata": {},
   "outputs": [
    {
     "name": "stdout",
     "output_type": "stream",
     "text": [
      "12.2\n",
      "91.74\n"
     ]
    }
   ],
   "source": [
    "print(city_data['Temperature'].min())\n",
    "print(city_data['Temperature'].max())"
   ]
  },
  {
   "cell_type": "code",
   "execution_count": 58,
   "metadata": {
    "scrolled": true
   },
   "outputs": [
    {
     "data": {
      "image/png": "[encoded data removed]",
      "text/plain": [
       "<Figure size 432x288 with 1 Axes>"
      ]
     },
     "metadata": {
      "needs_background": "light"
     },
     "output_type": "display_data"
    }
   ],
   "source": [
    "x_value = city_data['Latitude']\n",
    "y_value = city_data['Temperature']\n",
    "\n",
    "plt.scatter(x_value, y_value, marker=\"o\", facecolors=\"green\", edgecolors=\"black\",\n",
    "            s=30, alpha=0.75)\n",
    "plt.xlim(-50, 85)\n",
    "plt.ylim(10,95 )\n",
    "plt.title('City Latitude vs Temperature (10/10/2020)')\n",
    "plt.xlabel('Latitude')\n",
    "plt.ylabel('Tempurature (F)')\n",
    "plt.savefig('Outputs/Lat_vs_Temp.png')\n",
    "plt.show()\n"
   ]
  },
  {
   "cell_type": "markdown",
   "metadata": {},
   "source": [
    "## Latitude vs. Humidity Plot"
   ]
  },
  {
   "cell_type": "code",
   "execution_count": 35,
   "metadata": {},
   "outputs": [
    {
     "name": "stdout",
     "output_type": "stream",
     "text": [
      "1\n",
      "100\n"
     ]
    }
   ],
   "source": [
    "print(city_data['Humidity'].min())\n",
    "print(city_data['Humidity'].max())"
   ]
  },
  {
   "cell_type": "code",
   "execution_count": 42,
   "metadata": {},
   "outputs": [
    {
     "data": {
      "image/png": "[encoded data removed]",
      "text/plain": [
       "<Figure size 432x288 with 1 Axes>"
      ]
     },
     "metadata": {
      "needs_background": "light"
     },
     "output_type": "display_data"
    },
    {
     "data": {
      "text/plain": [
       "<Figure size 432x288 with 0 Axes>"
      ]
     },
     "metadata": {},
     "output_type": "display_data"
    }
   ],
   "source": [
    "x_value = city_data['Latitude']\n",
    "y_value = city_data['Humidity']\n",
    "\n",
    "plt.scatter(x_value, y_value, marker=\"o\", facecolors=\"purple\", edgecolors=\"black\",\n",
    "            s=30, alpha=0.75)\n",
    "plt.xlim(-50, 85)\n",
    "plt.ylim(-5,105 )\n",
    "plt.title('City Latitude vs Humidity (10/10/2020)')\n",
    "plt.xlabel('Latitude')\n",
    "plt.ylabel('Humidity')\n",
    "plt.savefig('Outputs/Lat_vs_Humidity.png')\n",
    "plt.show()\n"
   ]
  },
  {
   "cell_type": "markdown",
   "metadata": {},
   "source": [
    "## Latitude vs. Cloudiness Plot"
   ]
  },
  {
   "cell_type": "code",
   "execution_count": 43,
   "metadata": {},
   "outputs": [
    {
     "name": "stdout",
     "output_type": "stream",
     "text": [
      "0\n",
      "100\n"
     ]
    }
   ],
   "source": [
    "print(city_data['Cloudiness'].min())\n",
    "print(city_data['Cloudiness'].max())"
   ]
  },
  {
   "cell_type": "code",
   "execution_count": 44,
   "metadata": {},
   "outputs": [
    {
     "data": {
      "image/png": "[encoded data removed]",
      "text/plain": [
       "<Figure size 432x288 with 1 Axes>"
      ]
     },
     "metadata": {
      "needs_background": "light"
     },
     "output_type": "display_data"
    },
    {
     "data": {
      "text/plain": [
       "<Figure size 432x288 with 0 Axes>"
      ]
     },
     "metadata": {},
     "output_type": "display_data"
    }
   ],
   "source": [
    "x_value = city_data['Latitude']\n",
    "y_value = city_data['Cloudiness']\n",
    "\n",
    "plt.scatter(x_value, y_value, marker=\"o\", facecolors=\"purple\", edgecolors=\"blue\",\n",
    "            s=30, alpha=0.75)\n",
    "plt.xlim(-50, 85)\n",
    "plt.ylim(-5,105 )\n",
    "plt.title('City Latitude vs Cloudiness (10/10/2020)')\n",
    "plt.xlabel('Latitude')\n",
    "plt.ylabel('Cloudiness')\n",
    "plt.savefig('Outputs/Lat_vs_Cloud.png')\n",
    "plt.show()\n"
   ]
  },
  {
   "cell_type": "markdown",
   "metadata": {},
   "source": [
    "## Latitude vs. Wind Speed Plot"
   ]
  },
  {
   "cell_type": "code",
   "execution_count": 45,
   "metadata": {},
   "outputs": [
    {
     "name": "stdout",
     "output_type": "stream",
     "text": [
      "0.45\n",
      "59.73\n"
     ]
    }
   ],
   "source": [
    "print(city_data['Wind Speed'].min())\n",
    "print(city_data['Wind Speed'].max())"
   ]
  },
  {
   "cell_type": "code",
   "execution_count": 49,
   "metadata": {},
   "outputs": [
    {
     "data": {
      "image/png": "[encoded data removed]",
      "text/plain": [
       "<Figure size 432x288 with 1 Axes>"
      ]
     },
     "metadata": {
      "needs_background": "light"
     },
     "output_type": "display_data"
    },
    {
     "data": {
      "text/plain": [
       "<Figure size 432x288 with 0 Axes>"
      ]
     },
     "metadata": {},
     "output_type": "display_data"
    }
   ],
   "source": [
    "x_value = city_data['Latitude']\n",
    "y_value = city_data['Wind Speed']\n",
    "\n",
    "plt.scatter(x_value, y_value, marker=\"o\", facecolors=\"red\", edgecolors=\"black\",\n",
    "            s=30, alpha=0.75)\n",
    "plt.xlim(-50, 85)\n",
    "plt.ylim(-5,65)\n",
    "plt.title('City Latitude vs Wind Speed (10/10/2020)')\n",
    "plt.xlabel('Latitude')\n",
    "plt.ylabel('Wind Speed')\n",
    "plt.savefig('Outputs/Lat_vs_Wind.png')\n",
    "plt.show()\n"
   ]
  },
  {
   "cell_type": "markdown",
   "metadata": {},
   "source": [
    "## Linear Regression\n",
    "Your second requirement is to run linear regression on each relationship, only this time separating them into Northern Hemisphere (greater than or equal to 0 degrees latitude) and Southern Hemisphere (less than 0 degrees latitude)"
   ]
  },
  {
   "cell_type": "code",
   "execution_count": null,
   "metadata": {},
   "outputs": [],
   "source": []
  },
  {
   "cell_type": "code",
   "execution_count": 24,
   "metadata": {},
   "outputs": [],
   "source": []
  },
  {
   "cell_type": "markdown",
   "metadata": {},
   "source": [
    "####  Northern Hemisphere - Max Temp vs. Latitude Linear Regression"
   ]
  },
  {
   "cell_type": "code",
   "execution_count": 57,
   "metadata": {},
   "outputs": [
    {
     "ename": "TypeError",
     "evalue": "must be str, not float",
     "output_type": "error",
     "traceback": [
      "\u001b[1;31m---------------------------------------------------------------------------\u001b[0m",
      "\u001b[1;31mTypeError\u001b[0m                                 Traceback (most recent call last)",
      "\u001b[1;32m<ipython-input-57-06fe84acdb0e>\u001b[0m in \u001b[0;36m<module>\u001b[1;34m()\u001b[0m\n\u001b[0;32m      2\u001b[0m \u001b[0my_value\u001b[0m \u001b[1;33m=\u001b[0m \u001b[0mcity_data\u001b[0m\u001b[1;33m[\u001b[0m\u001b[1;34m'Temperature'\u001b[0m\u001b[1;33m]\u001b[0m\u001b[1;33m\u001b[0m\u001b[1;33m\u001b[0m\u001b[0m\n\u001b[0;32m      3\u001b[0m \u001b[1;33m\u001b[0m\u001b[0m\n\u001b[1;32m----> 4\u001b[1;33m \u001b[1;33m(\u001b[0m\u001b[0mslope\u001b[0m\u001b[1;33m,\u001b[0m \u001b[0mintercept\u001b[0m\u001b[1;33m,\u001b[0m \u001b[0mrvalue\u001b[0m\u001b[1;33m,\u001b[0m \u001b[0mpvalue\u001b[0m\u001b[1;33m,\u001b[0m \u001b[0mstderr\u001b[0m\u001b[1;33m)\u001b[0m \u001b[1;33m=\u001b[0m \u001b[0mst\u001b[0m\u001b[1;33m.\u001b[0m\u001b[0mlinregress\u001b[0m\u001b[1;33m(\u001b[0m\u001b[0mx_values\u001b[0m\u001b[1;33m,\u001b[0m \u001b[0my_value\u001b[0m\u001b[1;33m)\u001b[0m\u001b[1;33m\u001b[0m\u001b[1;33m\u001b[0m\u001b[0m\n\u001b[0m\u001b[0;32m      5\u001b[0m \u001b[0mregress_value\u001b[0m \u001b[1;33m=\u001b[0m \u001b[0mx_values\u001b[0m \u001b[1;33m*\u001b[0m \u001b[0mslope\u001b[0m \u001b[1;33m+\u001b[0m \u001b[0mintercept\u001b[0m\u001b[1;33m\u001b[0m\u001b[1;33m\u001b[0m\u001b[0m\n\u001b[0;32m      6\u001b[0m \u001b[1;33m\u001b[0m\u001b[0m\n",
      "\u001b[1;32mC:\\Users\\jfors\\anaconda3\\envs\\pythondata\\lib\\site-packages\\scipy\\stats\\_stats_mstats_common.py\u001b[0m in \u001b[0;36mlinregress\u001b[1;34m(x, y)\u001b[0m\n\u001b[0;32m    110\u001b[0m \u001b[1;33m\u001b[0m\u001b[0m\n\u001b[0;32m    111\u001b[0m     \u001b[0mn\u001b[0m \u001b[1;33m=\u001b[0m \u001b[0mlen\u001b[0m\u001b[1;33m(\u001b[0m\u001b[0mx\u001b[0m\u001b[1;33m)\u001b[0m\u001b[1;33m\u001b[0m\u001b[1;33m\u001b[0m\u001b[0m\n\u001b[1;32m--> 112\u001b[1;33m     \u001b[0mxmean\u001b[0m \u001b[1;33m=\u001b[0m \u001b[0mnp\u001b[0m\u001b[1;33m.\u001b[0m\u001b[0mmean\u001b[0m\u001b[1;33m(\u001b[0m\u001b[0mx\u001b[0m\u001b[1;33m,\u001b[0m \u001b[1;32mNone\u001b[0m\u001b[1;33m)\u001b[0m\u001b[1;33m\u001b[0m\u001b[1;33m\u001b[0m\u001b[0m\n\u001b[0m\u001b[0;32m    113\u001b[0m     \u001b[0mymean\u001b[0m \u001b[1;33m=\u001b[0m \u001b[0mnp\u001b[0m\u001b[1;33m.\u001b[0m\u001b[0mmean\u001b[0m\u001b[1;33m(\u001b[0m\u001b[0my\u001b[0m\u001b[1;33m,\u001b[0m \u001b[1;32mNone\u001b[0m\u001b[1;33m)\u001b[0m\u001b[1;33m\u001b[0m\u001b[1;33m\u001b[0m\u001b[0m\n\u001b[0;32m    114\u001b[0m \u001b[1;33m\u001b[0m\u001b[0m\n",
      "\u001b[1;32m<__array_function__ internals>\u001b[0m in \u001b[0;36mmean\u001b[1;34m(*args, **kwargs)\u001b[0m\n",
      "\u001b[1;32mC:\\Users\\jfors\\anaconda3\\envs\\pythondata\\lib\\site-packages\\numpy\\core\\fromnumeric.py\u001b[0m in \u001b[0;36mmean\u001b[1;34m(a, axis, dtype, out, keepdims)\u001b[0m\n\u001b[0;32m   3333\u001b[0m \u001b[1;33m\u001b[0m\u001b[0m\n\u001b[0;32m   3334\u001b[0m     return _methods._mean(a, axis=axis, dtype=dtype,\n\u001b[1;32m-> 3335\u001b[1;33m                           out=out, **kwargs)\n\u001b[0m\u001b[0;32m   3336\u001b[0m \u001b[1;33m\u001b[0m\u001b[0m\n\u001b[0;32m   3337\u001b[0m \u001b[1;33m\u001b[0m\u001b[0m\n",
      "\u001b[1;32mC:\\Users\\jfors\\anaconda3\\envs\\pythondata\\lib\\site-packages\\numpy\\core\\_methods.py\u001b[0m in \u001b[0;36m_mean\u001b[1;34m(a, axis, dtype, out, keepdims)\u001b[0m\n\u001b[0;32m    149\u001b[0m             \u001b[0mis_float16_result\u001b[0m \u001b[1;33m=\u001b[0m \u001b[1;32mTrue\u001b[0m\u001b[1;33m\u001b[0m\u001b[1;33m\u001b[0m\u001b[0m\n\u001b[0;32m    150\u001b[0m \u001b[1;33m\u001b[0m\u001b[0m\n\u001b[1;32m--> 151\u001b[1;33m     \u001b[0mret\u001b[0m \u001b[1;33m=\u001b[0m \u001b[0mumr_sum\u001b[0m\u001b[1;33m(\u001b[0m\u001b[0marr\u001b[0m\u001b[1;33m,\u001b[0m \u001b[0maxis\u001b[0m\u001b[1;33m,\u001b[0m \u001b[0mdtype\u001b[0m\u001b[1;33m,\u001b[0m \u001b[0mout\u001b[0m\u001b[1;33m,\u001b[0m \u001b[0mkeepdims\u001b[0m\u001b[1;33m)\u001b[0m\u001b[1;33m\u001b[0m\u001b[1;33m\u001b[0m\u001b[0m\n\u001b[0m\u001b[0;32m    152\u001b[0m     \u001b[1;32mif\u001b[0m \u001b[0misinstance\u001b[0m\u001b[1;33m(\u001b[0m\u001b[0mret\u001b[0m\u001b[1;33m,\u001b[0m \u001b[0mmu\u001b[0m\u001b[1;33m.\u001b[0m\u001b[0mndarray\u001b[0m\u001b[1;33m)\u001b[0m\u001b[1;33m:\u001b[0m\u001b[1;33m\u001b[0m\u001b[1;33m\u001b[0m\u001b[0m\n\u001b[0;32m    153\u001b[0m         ret = um.true_divide(\n",
      "\u001b[1;31mTypeError\u001b[0m: must be str, not float"
     ]
    }
   ],
   "source": [
    "x_values = city_data.loc[city_data['Latitude']>=0]\n",
    "y_value = city_data['Temperature']\n",
    "\n",
    "(slope, intercept, rvalue, pvalue, stderr) = st.linregress(x_values, y_value)\n",
    "regress_value = x_values * slope + intercept\n",
    "\n",
    "line_eq = \"y = \" + str(round(slope,2)) + \"x + \" + str(round(intercept,2))\n",
    "\n",
    "plt.scatter(x_values, y_value, marker=\"o\", facecolors=\"green\", edgecolors=\"black\",\n",
    "            s=30, alpha=0.75)\n",
    "plt.plot(x_values,regress_value,\"r-\")\n",
    "plt.annotate(line_eq,(20,36),fontsize=15,color=\"red\")\n",
    "plt.xlim(-50, 85)\n",
    "plt.ylim(10,95 )\n",
    "plt.title('City Latitude vs Temperature (10/10/2020)')\n",
    "plt.xlabel('Latitude')\n",
    "plt.ylabel('Tempurature (F)')\n",
    "plt.show()\n",
    "# plt.savefig('Outputs/Lat_vs_Temp_Northern.png')\n",
    "\n",
    "# print(f'The r-value is: )"
   ]
  },
  {
   "cell_type": "code",
   "execution_count": 25,
   "metadata": {},
   "outputs": [
    {
     "name": "stdout",
     "output_type": "stream",
     "text": [
      "The r-value is: 0.46937863826630627\n"
     ]
    },
    {
     "data": {
      "image/png": "[encoded data removed]",
      "text/plain": [
       "<Figure size 432x288 with 1 Axes>"
      ]
     },
     "metadata": {
      "needs_background": "light"
     },
     "output_type": "display_data"
    }
   ],
   "source": []
  },
  {
   "cell_type": "markdown",
   "metadata": {},
   "source": [
    "####  Southern Hemisphere - Max Temp vs. Latitude Linear Regression"
   ]
  },
  {
   "cell_type": "code",
   "execution_count": 26,
   "metadata": {},
   "outputs": [
    {
     "name": "stdout",
     "output_type": "stream",
     "text": [
      "The r-value is: 0.6082708688906918\n"
     ]
    },
    {
     "data": {
      "image/png": "[encoded data removed]",
      "text/plain": [
       "<Figure size 432x288 with 1 Axes>"
      ]
     },
     "metadata": {
      "needs_background": "light"
     },
     "output_type": "display_data"
    }
   ],
   "source": []
  },
  {
   "cell_type": "markdown",
   "metadata": {},
   "source": [
    "####  Northern Hemisphere - Humidity (%) vs. Latitude Linear Regression"
   ]
  },
  {
   "cell_type": "code",
   "execution_count": 27,
   "metadata": {},
   "outputs": [
    {
     "name": "stdout",
     "output_type": "stream",
     "text": [
      "The r-value is: 0.000543987878808455\n"
     ]
    },
    {
     "data": {
      "image/png": "[encoded data removed]",
      "text/plain": [
       "<Figure size 432x288 with 1 Axes>"
      ]
     },
     "metadata": {
      "needs_background": "light"
     },
     "output_type": "display_data"
    }
   ],
   "source": []
  },
  {
   "cell_type": "markdown",
   "metadata": {},
   "source": [
    "####  Southern Hemisphere - Humidity (%) vs. Latitude Linear Regression"
   ]
  },
  {
   "cell_type": "code",
   "execution_count": 28,
   "metadata": {},
   "outputs": [
    {
     "name": "stdout",
     "output_type": "stream",
     "text": [
      "The r-value is: 0.014985174297345524\n"
     ]
    },
    {
     "data": {
      "image/png": "[encoded data removed]",
      "text/plain": [
       "<Figure size 432x288 with 1 Axes>"
      ]
     },
     "metadata": {
      "needs_background": "light"
     },
     "output_type": "display_data"
    }
   ],
   "source": []
  },
  {
   "cell_type": "markdown",
   "metadata": {},
   "source": [
    "####  Northern Hemisphere - Cloudiness (%) vs. Latitude Linear Regression"
   ]
  },
  {
   "cell_type": "code",
   "execution_count": 29,
   "metadata": {},
   "outputs": [
    {
     "name": "stdout",
     "output_type": "stream",
     "text": [
      "The r-value is: 0.0020898727664228514\n"
     ]
    },
    {
     "data": {
      "image/png": "[encoded data removed]",
      "text/plain": [
       "<Figure size 432x288 with 1 Axes>"
      ]
     },
     "metadata": {
      "needs_background": "light"
     },
     "output_type": "display_data"
    }
   ],
   "source": []
  },
  {
   "cell_type": "markdown",
   "metadata": {},
   "source": [
    "####  Southern Hemisphere - Cloudiness (%) vs. Latitude Linear Regression"
   ]
  },
  {
   "cell_type": "code",
   "execution_count": 30,
   "metadata": {},
   "outputs": [
    {
     "name": "stdout",
     "output_type": "stream",
     "text": [
      "The r-value is: 0.0035263772085582894\n"
     ]
    },
    {
     "data": {
      "image/png": "[encoded data removed]",
      "text/plain": [
       "<Figure size 432x288 with 1 Axes>"
      ]
     },
     "metadata": {
      "needs_background": "light"
     },
     "output_type": "display_data"
    }
   ],
   "source": []
  },
  {
   "cell_type": "markdown",
   "metadata": {},
   "source": [
    "####  Northern Hemisphere - Wind Speed (mph) vs. Latitude Linear Regression"
   ]
  },
  {
   "cell_type": "code",
   "execution_count": 31,
   "metadata": {},
   "outputs": [
    {
     "name": "stdout",
     "output_type": "stream",
     "text": [
      "The r-value is: 0.04019723576144484\n"
     ]
    },
    {
     "data": {
      "image/png": "[encoded data removed]",
      "text/plain": [
       "<Figure size 432x288 with 1 Axes>"
      ]
     },
     "metadata": {
      "needs_background": "light"
     },
     "output_type": "display_data"
    }
   ],
   "source": []
  },
  {
   "cell_type": "markdown",
   "metadata": {},
   "source": [
    "####  Southern Hemisphere - Wind Speed (mph) vs. Latitude Linear Regression"
   ]
  },
  {
   "cell_type": "code",
   "execution_count": 32,
   "metadata": {},
   "outputs": [
    {
     "name": "stdout",
     "output_type": "stream",
     "text": [
      "The r-value is: 0.017128274759839232\n"
     ]
    },
    {
     "data": {
      "image/png": "[encoded data removed]",
      "text/plain": [
       "<Figure size 432x288 with 1 Axes>"
      ]
     },
     "metadata": {
      "needs_background": "light"
     },
     "output_type": "display_data"
    }
   ],
   "source": []
  },
  {
   "cell_type": "code",
   "execution_count": null,
   "metadata": {},
   "outputs": [],
   "source": []
  }
 ],
 "metadata": {
  "anaconda-cloud": {},
  "kernel_info": {
   "name": "python3"
  },
  "kernelspec": {
   "display_name": "Python 3",
   "language": "python",
   "name": "python3"
  },
  "language_info": {
   "codemirror_mode": {
    "name": "ipython",
    "version": 3
   },
   "file_extension": ".py",
   "mimetype": "text/x-python",
   "name": "python",
   "nbconvert_exporter": "python",
   "pygments_lexer": "ipython3",
   "version": "3.6.10"
  },
  "latex_envs": {
   "LaTeX_envs_menu_present": true,
   "autoclose": false,
   "autocomplete": true,
   "bibliofile": "biblio.bib",
   "cite_by": "apalike",
   "current_citInitial": 1,
   "eqLabelWithNumbers": true,
   "eqNumInitial": 1,
   "hotkeys": {
    "equation": "Ctrl-E",
    "itemize": "Ctrl-I"
   },
   "labels_anchors": false,
   "latex_user_defs": false,
   "report_style_numbering": false,
   "user_envs_cfg": false
  },
  "nteract": {
   "version": "0.12.3"
  }
 },
 "nbformat": 4,
 "nbformat_minor": 2
}
